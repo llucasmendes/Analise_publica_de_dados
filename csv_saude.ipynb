{
 "cells": [
  {
   "cell_type": "code",
   "execution_count": 1,
   "metadata": {},
   "outputs": [],
   "source": [
    "# Importando as bibliotecas\n",
    "import pandas as pd\n",
    "# Imformar ao matplotlib sobre gráficos inline\n",
    "%matplotlib inline"
   ]
  },
  {
   "cell_type": "code",
   "execution_count": 6,
   "metadata": {},
   "outputs": [
    {
     "data": {
      "text/html": [
       "<div>\n",
       "<style scoped>\n",
       "    .dataframe tbody tr th:only-of-type {\n",
       "        vertical-align: middle;\n",
       "    }\n",
       "\n",
       "    .dataframe tbody tr th {\n",
       "        vertical-align: top;\n",
       "    }\n",
       "\n",
       "    .dataframe thead th {\n",
       "        text-align: right;\n",
       "    }\n",
       "</style>\n",
       "<table border=\"1\" class=\"dataframe\">\n",
       "  <thead>\n",
       "    <tr style=\"text-align: right;\">\n",
       "      <th></th>\n",
       "      <th>Hospital</th>\n",
       "      <th>Complexidade</th>\n",
       "      <th>Subgrupo</th>\n",
       "      <th>Procedimento</th>\n",
       "      <th>Carater Atendimento</th>\n",
       "    </tr>\n",
       "  </thead>\n",
       "  <tbody>\n",
       "    <tr>\n",
       "      <th>0</th>\n",
       "      <td>FARMACIA DE ALTO CUSTO - ASA SUL</td>\n",
       "      <td>Alta complexidade</td>\n",
       "      <td>Sub Grupo: 04 - Componente Especializado da As...</td>\n",
       "      <td>Fingolimode 0,5 Mg (por Cápsula)</td>\n",
       "      <td>Eletivo</td>\n",
       "    </tr>\n",
       "    <tr>\n",
       "      <th>1</th>\n",
       "      <td>FARMACIA DE ALTO CUSTO - ASA SUL</td>\n",
       "      <td>Alta complexidade</td>\n",
       "      <td>Sub Grupo: 04 - Componente Especializado da As...</td>\n",
       "      <td>Ciprofibrato 100 Mg (por Comprimido)</td>\n",
       "      <td>Eletivo</td>\n",
       "    </tr>\n",
       "    <tr>\n",
       "      <th>2</th>\n",
       "      <td>FARMACIA DE ALTO CUSTO - ASA SUL</td>\n",
       "      <td>Alta complexidade</td>\n",
       "      <td>Sub Grupo: 04 - Componente Especializado da As...</td>\n",
       "      <td>Ciprofibrato 100 Mg (por Comprimido)</td>\n",
       "      <td>Eletivo</td>\n",
       "    </tr>\n",
       "  </tbody>\n",
       "</table>\n",
       "</div>"
      ],
      "text/plain": [
       "                           Hospital       Complexidade  \\\n",
       "0  FARMACIA DE ALTO CUSTO - ASA SUL  Alta complexidade   \n",
       "1  FARMACIA DE ALTO CUSTO - ASA SUL  Alta complexidade   \n",
       "2  FARMACIA DE ALTO CUSTO - ASA SUL  Alta complexidade   \n",
       "\n",
       "                                            Subgrupo  \\\n",
       "0  Sub Grupo: 04 - Componente Especializado da As...   \n",
       "1  Sub Grupo: 04 - Componente Especializado da As...   \n",
       "2  Sub Grupo: 04 - Componente Especializado da As...   \n",
       "\n",
       "                           Procedimento Carater Atendimento  \n",
       "0      Fingolimode 0,5 Mg (por Cápsula)             Eletivo  \n",
       "1  Ciprofibrato 100 Mg (por Comprimido)             Eletivo  \n",
       "2  Ciprofibrato 100 Mg (por Comprimido)             Eletivo  "
      ]
     },
     "execution_count": 6,
     "metadata": {},
     "output_type": "execute_result"
    }
   ],
   "source": [
    "#vamos importas apenas algumas colunas do arquivo\n",
    "# 3 - estabelecimento_cnes, 6 - Municipio, 4 - complexidade, 13 - carater_atendimento, 12 - subgrupo, 14 - procedimento\n",
    "\n",
    "# carregar arquivo csv\n",
    "df = pd.read_csv('sia112018.csv', sep=';', encoding='cp1252', usecols=[2, 3, 7, 9, 12])\n",
    "#trocar o nome das colunas\n",
    "df.columns = ['Hospital', 'Complexidade', 'Subgrupo', 'Procedimento', 'Carater Atendimento']\n",
    "#Exibir as primeiras linhas do dataFrame\n",
    "df.head(3)"
   ]
  },
  {
   "cell_type": "code",
   "execution_count": 7,
   "metadata": {},
   "outputs": [
    {
     "data": {
      "text/html": [
       "<div>\n",
       "<style scoped>\n",
       "    .dataframe tbody tr th:only-of-type {\n",
       "        vertical-align: middle;\n",
       "    }\n",
       "\n",
       "    .dataframe tbody tr th {\n",
       "        vertical-align: top;\n",
       "    }\n",
       "\n",
       "    .dataframe thead th {\n",
       "        text-align: right;\n",
       "    }\n",
       "</style>\n",
       "<table border=\"1\" class=\"dataframe\">\n",
       "  <thead>\n",
       "    <tr style=\"text-align: right;\">\n",
       "      <th></th>\n",
       "      <th>Hospital</th>\n",
       "      <th>Complexidade</th>\n",
       "      <th>Subgrupo</th>\n",
       "      <th>Procedimento</th>\n",
       "      <th>Carater Atendimento</th>\n",
       "    </tr>\n",
       "  </thead>\n",
       "  <tbody>\n",
       "    <tr>\n",
       "      <th>count</th>\n",
       "      <td>180282</td>\n",
       "      <td>180282</td>\n",
       "      <td>180282</td>\n",
       "      <td>180171</td>\n",
       "      <td>180282</td>\n",
       "    </tr>\n",
       "    <tr>\n",
       "      <th>unique</th>\n",
       "      <td>147</td>\n",
       "      <td>4</td>\n",
       "      <td>46</td>\n",
       "      <td>1272</td>\n",
       "      <td>7</td>\n",
       "    </tr>\n",
       "    <tr>\n",
       "      <th>top</th>\n",
       "      <td>HOSPITAL MATERNO INFANTIL DE BRASILIA - HMIB</td>\n",
       "      <td>Média complexidade</td>\n",
       "      <td>Sub Grupo: 04 - Componente Especializado da As...</td>\n",
       "      <td>Consulta Medica em Atenção Especializada</td>\n",
       "      <td>Eletivo</td>\n",
       "    </tr>\n",
       "    <tr>\n",
       "      <th>freq</th>\n",
       "      <td>18929</td>\n",
       "      <td>113342</td>\n",
       "      <td>38398</td>\n",
       "      <td>19687</td>\n",
       "      <td>137468</td>\n",
       "    </tr>\n",
       "  </tbody>\n",
       "</table>\n",
       "</div>"
      ],
      "text/plain": [
       "                                            Hospital        Complexidade  \\\n",
       "count                                         180282              180282   \n",
       "unique                                           147                   4   \n",
       "top     HOSPITAL MATERNO INFANTIL DE BRASILIA - HMIB  Média complexidade   \n",
       "freq                                           18929              113342   \n",
       "\n",
       "                                                 Subgrupo  \\\n",
       "count                                              180282   \n",
       "unique                                                 46   \n",
       "top     Sub Grupo: 04 - Componente Especializado da As...   \n",
       "freq                                                38398   \n",
       "\n",
       "                                    Procedimento Carater Atendimento  \n",
       "count                                     180171              180282  \n",
       "unique                                      1272                   7  \n",
       "top     Consulta Medica em Atenção Especializada             Eletivo  \n",
       "freq                                       19687              137468  "
      ]
     },
     "execution_count": 7,
     "metadata": {},
     "output_type": "execute_result"
    }
   ],
   "source": [
    "# descrever as colunas numericas\n",
    "df.describe()"
   ]
  },
  {
   "cell_type": "code",
   "execution_count": 8,
   "metadata": {},
   "outputs": [
    {
     "data": {
      "text/plain": [
       "array(['FARMACIA DE ALTO CUSTO - ASA SUL',\n",
       "       'IDR SAMAMBAIA SERVICOS MEDICOS', 'CEAL LP', 'SOCLIMED',\n",
       "       'INSTITUTO HOSPITAL DE BASE DO DISTRITO FEDERAL', 'HRAN', 'CBV',\n",
       "       'HRS', 'HOSPITAL REGIONAL DE CEILANDIA', 'HRG', 'HRL', 'NEPHRON',\n",
       "       'INSTITUTO DE CARDIOLOGIA DO DISTRITO FEDERAL',\n",
       "       'SEANE SERVICO DE ASSISTENCIA CLIN',\n",
       "       'HRT HOSPITAL REGIONAL DE TAGUATINGA',\n",
       "       'FARMACIA DE ALTO CUSTO - CEILANDIA',\n",
       "       'HOSPITAL DA CRIANCA DE BRASILIA JOSE ALENCAR-HCB',\n",
       "       'HOSPITAL UNIVERSITARIO DE BRASILIA',\n",
       "       'BANCO DE OLHOS DO DISTRITO FEDERAL', 'RENAL CARE',\n",
       "       'FARMACIA DE ALTO CUSTO GAMA', 'POLICLINICA RIACHO FUNDO I',\n",
       "       'POLICLINICA 03 DO LAGO SUL',\n",
       "       'POLICLINA DA REGIAO OESTE UNIDADE BRAZLANDIA',\n",
       "       'POLICLINICA 514 SUL - GSAS2 DIRASE/SRSCE',\n",
       "       'LABORATORIO CENTRAL DA REGIAO DE SAUDE SUDOESTE',\n",
       "       'POLICLINICA DE SOBRADINHO', 'CEDOH ASA NORTE',\n",
       "       'POLICLINICA DA ATENCAO SECUNDARIA DE SAO SEBASTIAO',\n",
       "       'POLICLINICA DE SAMAMBAIA', 'POLICLINICA DE TAGUATINGA',\n",
       "       'HOSPITAL MATERNO INFANTIL DE BRASILIA - HMIB', 'HOSPITAL DIA',\n",
       "       'HRSAM - HOSPITAL REGIONAL DE SAMAMBAIA', 'LACEN DF',\n",
       "       'HOSPITAL SAO VICENTE DE PAULO - HSVP', 'HRPL', 'ULTRAMED',\n",
       "       'CLINICA DE NEFROLOGIA RENAL VIDA - CNRV', 'HRBZ',\n",
       "       'CENTRAL DE RADIOLOGIA DE TAGUATINGA', 'FUNDACAO HEMOCENTRO',\n",
       "       'CEO 712 912 SUL', 'HOSPITAL SAO FRANCISCO', 'DIAGNOSTIK',\n",
       "       'VITAILABORATORIO E IMAGEM',\n",
       "       'UPA - UNIDADE DE PRONTO ATENDIMENTO DE SAO SEBASTIAO',\n",
       "       'CENTRAL DE REGULACAO', 'OFICINA ORTOPEDICA DO DISTRITO FEDERAL',\n",
       "       'CER', 'HRGU', 'UPA RECANTO DAS EMAS',\n",
       "       'UNIDADE DE PRONTO ATENDIMENTO CEILANDIA', 'HRSM',\n",
       "       'RADIOGRAPH CLINICA DE IMAGEM',\n",
       "       'HOSPITAL DE APOIO DE BRASILIA-HAB', 'POLICLINICA DE PLANALTINA',\n",
       "       'POLICLINICA NUCLEO BANDEIRANTE', 'CAPS III SAMAMBAIA',\n",
       "       'CAPSI ASA NORTE', 'CARRETA OFTALMOLOGICA', 'CAPS II RIACHO FUNDO',\n",
       "       'UPA SOBRADINHO', 'UPA NUCLEO BANDEIRANTE',\n",
       "       'CENTRO DE ATENCAO PSICOSSOCIAL CAPS AD III BRASILIA',\n",
       "       'CAPS I SOBRADINHO', 'CEREST DA REGIAO SUL',\n",
       "       'SAMU DF USA - SOBRADINHO', 'SAMU DF USA - GAMA',\n",
       "       'SAMU DF USB - VICENTE PIRES', 'SAMU DF USA - SAMAMBAIA',\n",
       "       'SAMU DF USA - CEILANDIA', 'SAMU DF USB - PLANO PILOTO II',\n",
       "       'SAMU DF USB - BANDEIRANTE', 'SAMU DF USB - PLANO PILOTO I',\n",
       "       'SAMU DF USB - PARANOA I', 'SAMU DF USB - TAGUATINGA I',\n",
       "       'SAMU DF USB - TAGUATINGA II', 'SAMU DF USB - PLANALTINA I',\n",
       "       'SAMU DF USB - SOBRADINHO I', 'SAMU DF USB - GAMA I',\n",
       "       'SAMU DF USB - SANTA MARIA I', 'SAMU DF USB - SANTA MARIA II',\n",
       "       'SAMU DF USB - SAMAMBAIA II', 'SAMU DF USB - CEILANDIA I',\n",
       "       'SAMU DF USB - SAMAMBAIA I', 'SAMU DF USB - RECANTO DAS EMAS II',\n",
       "       'SAMU DF USB - CEILANDIA II', 'SAMU DF USB - CEILANDIA III',\n",
       "       'SAMU DF USB - CEILANDIA IV', 'SAMU DF USB - BRAZLANDIA I',\n",
       "       'SAMU DF USB - PLANO PILOTO III', 'SAMU DF USB - GAMA II',\n",
       "       'SAMU DF USB - TAGUATINGA III (AGUAS CLARAS)',\n",
       "       'SAMU DF MOTOLANCIA - RIACHO FUNDO I',\n",
       "       'SAMU DF USB - SAO SEBASTIAO I',\n",
       "       'SAMU DF MOTOLANCIA - SOBRADINHO I',\n",
       "       'SAMU DF USB - RECANTO DAS EMAS I',\n",
       "       'SAMU DF MOTOLANCIA - TAGUATINGA I',\n",
       "       'SAMU DF MOTOLANCIA - RECANTO DAS EMAS I',\n",
       "       'SAMU DF MOTOLANCIA - GAMA I', 'SAMU DF USB - RIACHO FUNDO',\n",
       "       'SAMU DF USB - SOBRADINHO II', 'SAMU DF USA - TAGUATINGA',\n",
       "       'SAMU DF USA - PLANO PILOTO', 'SAMU DF USA - NEO',\n",
       "       'SAMU DF MOTOLANCIA - SOBRADINHO II',\n",
       "       'SAMU DF MOTOLANCIA - CEILANDIA III',\n",
       "       'SAMU DF MOTOLANCIA - RECANTO DAS EMAS II',\n",
       "       'SAMU DF MOTOLANCIA - CEILANDIA IV',\n",
       "       'SAMU DF MOTOLANCIA - TAGUATINGA II',\n",
       "       'SAMU DF MOTOLANCIA - SAMAMBAIA I',\n",
       "       'SAMU DF MOTOLANCIA - SAMAMBAIA II',\n",
       "       'SAMU DF MOTOLANCIA - RIACHO FUNDO II',\n",
       "       'SAMU DF MOTOLANCIA - GAMA II',\n",
       "       'SAMU DF MOTOLANCIA - SANTA MARIA I',\n",
       "       'SAMU DF MOTOLANCIA - SANTA MARIA II', 'SAMU DF USB - GUARA I',\n",
       "       'CAPS AD ITAPOA', 'CENTRAL DE REGULACAO DO SAMU DISTRITO FEDERAL',\n",
       "       'SAMU DF MOTOLANCIA - GUARA I', 'SAMU DF MOTOLANCIA - GUARA II',\n",
       "       'CARRETA ODONTOLOGICA 1', 'NUFIRF SOBRADINHO',\n",
       "       'POLICLINICA DO GAMA', 'CAPS AD GUARA II',\n",
       "       'CENTRO DE ATENCAO PSICOSSOCIAL AD III CEILANDIA',\n",
       "       'CASA DE PARTO DE SAO SEBASTIAO', 'POLICLINICA RIACHO FUNDO II',\n",
       "       'CAPS II TAGUATINGA', 'LABORATORIO REGIONAL DE CEILANDIA',\n",
       "       'CENTRO DE ORIENTACAO MEDICO PSICOPEDAGOGICO - COMPP',\n",
       "       'LRGU GUARA', 'UPA TIPO III SAMAMBAIA',\n",
       "       'POLICLINICA DA ATENCAO SECUNDARIA PARANOA',\n",
       "       'CENTRO DE ESPECIALIDADES ODONTOLOGICAS', 'CAPS II PARANOA',\n",
       "       'CAPS AD SOBRADINHO', 'CEREST ESTADUAL', 'SAMU DF USB - GUARA II',\n",
       "       'SAMU DF USA - NUSAM', 'CEREST DA REGIAO SUDOESTE',\n",
       "       'CAPS AD SANTA MARIA', 'CAPS AD III SAMAMBAIA',\n",
       "       'CAPS I TAGUATINGA', 'SAMU DF USB - PLANALTINA II',\n",
       "       'CENTRO DE ATENCAO PSICOSSOCIAL CAPS II BRASILIA'], dtype=object)"
      ]
     },
     "execution_count": 8,
     "metadata": {},
     "output_type": "execute_result"
    }
   ],
   "source": [
    "#Listar os hospitais presentes nos dados\n",
    "df['Hospital'].unique()"
   ]
  },
  {
   "cell_type": "code",
   "execution_count": 9,
   "metadata": {},
   "outputs": [
    {
     "data": {
      "text/plain": [
       "HOSPITAL MATERNO INFANTIL DE BRASILIA - HMIB        18929\n",
       "FARMACIA DE ALTO CUSTO - CEILANDIA                  15693\n",
       "INSTITUTO HOSPITAL DE BASE DO DISTRITO FEDERAL      15191\n",
       "FARMACIA DE ALTO CUSTO - ASA SUL                    13876\n",
       "HRT HOSPITAL REGIONAL DE TAGUATINGA                 11156\n",
       "HOSPITAL UNIVERSITARIO DE BRASILIA                  11050\n",
       "HOSPITAL REGIONAL DE CEILANDIA                       9754\n",
       "FARMACIA DE ALTO CUSTO GAMA                          8829\n",
       "HRAN                                                 6265\n",
       "HRG                                                  5496\n",
       "HRL                                                  4131\n",
       "HRS                                                  3766\n",
       "IDR SAMAMBAIA SERVICOS MEDICOS                       3714\n",
       "INSTITUTO DE CARDIOLOGIA DO DISTRITO FEDERAL         3709\n",
       "HRSM                                                 3537\n",
       "HOSPITAL DA CRIANCA DE BRASILIA JOSE ALENCAR-HCB     3250\n",
       "VITAILABORATORIO E IMAGEM                            2776\n",
       "FUNDACAO HEMOCENTRO                                  2601\n",
       "CEAL LP                                              2285\n",
       "RENAL CARE                                           2272\n",
       "LACEN DF                                             2251\n",
       "HRGU                                                 2043\n",
       "ULTRAMED                                             1649\n",
       "SOCLIMED                                             1619\n",
       "SEANE SERVICO DE ASSISTENCIA CLIN                    1618\n",
       "HRSAM - HOSPITAL REGIONAL DE SAMAMBAIA               1471\n",
       "CLINICA DE NEFROLOGIA RENAL VIDA - CNRV              1237\n",
       "POLICLINICA DE TAGUATINGA                            1029\n",
       "OFICINA ORTOPEDICA DO DISTRITO FEDERAL                966\n",
       "HOSPITAL DE APOIO DE BRASILIA-HAB                     891\n",
       "                                                    ...  \n",
       "SAMU DF MOTOLANCIA - SANTA MARIA II                     1\n",
       "SAMU DF USB - PLANO PILOTO I                            1\n",
       "SAMU DF MOTOLANCIA - RIACHO FUNDO I                     1\n",
       "SAMU DF USA - NUSAM                                     1\n",
       "SAMU DF MOTOLANCIA - SOBRADINHO II                      1\n",
       "SAMU DF MOTOLANCIA - SANTA MARIA I                      1\n",
       "SAMU DF USB - SAMAMBAIA II                              1\n",
       "SAMU DF USB - PLANO PILOTO II                           1\n",
       "SAMU DF USB - CEILANDIA IV                              1\n",
       "SAMU DF USB - PLANO PILOTO III                          1\n",
       "SAMU DF USB - PARANOA I                                 1\n",
       "SAMU DF USB - SAO SEBASTIAO I                           1\n",
       "SAMU DF MOTOLANCIA - GUARA I                            1\n",
       "SAMU DF USB - SANTA MARIA I                             1\n",
       "SAMU DF MOTOLANCIA - GAMA I                             1\n",
       "SAMU DF MOTOLANCIA - RECANTO DAS EMAS I                 1\n",
       "SAMU DF MOTOLANCIA - GUARA II                           1\n",
       "SAMU DF MOTOLANCIA - RIACHO FUNDO II                    1\n",
       "SAMU DF USB - GAMA I                                    1\n",
       "SAMU DF USB - SOBRADINHO II                             1\n",
       "SAMU DF MOTOLANCIA - SAMAMBAIA II                       1\n",
       "SAMU DF USB - TAGUATINGA I                              1\n",
       "CEREST DA REGIAO SUL                                    1\n",
       "SAMU DF USB - CEILANDIA III                             1\n",
       "SAMU DF MOTOLANCIA - TAGUATINGA I                       1\n",
       "SAMU DF USB - CEILANDIA II                              1\n",
       "SAMU DF USB - GUARA I                                   1\n",
       "SAMU DF USB - GUARA II                                  1\n",
       "SAMU DF USB - SANTA MARIA II                            1\n",
       "SAMU DF MOTOLANCIA - CEILANDIA IV                       1\n",
       "Name: Hospital, Length: 147, dtype: int64"
      ]
     },
     "execution_count": 9,
     "metadata": {},
     "output_type": "execute_result"
    }
   ],
   "source": [
    "#Quantos procedimentos foram realizadas em cada hospital\n",
    "df['Hospital'].value_counts()"
   ]
  },
  {
   "cell_type": "code",
   "execution_count": 11,
   "metadata": {},
   "outputs": [
    {
     "data": {
      "text/plain": [
       "Sub Grupo: 04 - Componente Especializado da Assitencia Farmaceutica                                  38398\n",
       "Sub Grupo: 01 - Consultas / Atendimentos / Acompanhamentos                                           38249\n",
       "Sub Grupo: 02 - Diagnóstico em laboratório clínico                                                   27327\n",
       "Sub Grupo: 03 - Diagnóstico por anatomia patológica e citopatologia                                  19364\n",
       "Sub Grupo: 05 - Diagnóstico por ultra-sonografia                                                      8315\n",
       "Sub Grupo: 06 - Diagnóstico por tomografia                                                            8018\n",
       "Sub Grupo: 02 - Fisioterapia                                                                          7207\n",
       "Sub Grupo: 11 - Métodos diagnósticos em especialidades                                                4732\n",
       "Sub Grupo: 04 - Tratamento em oncologia                                                               3766\n",
       "Sub Grupo: 04 - Diagnóstico por radiologia                                                            3221\n",
       "Sub Grupo: 01 - Coleta e exames para fins de doação de orgãos, tecidos e células e de transplante     2940\n",
       "Sub Grupo: 01 - Órteses, próteses e materiais especiais não relacionados ao ato cirúrgico             2317\n",
       "Sub Grupo: 01 - Pequenas cirurgias e cirurgias de pele, tecido subcutâneo e mucosa                    1915\n",
       "Sub Grupo: 07 - Diagnóstico por ressonância magnética                                                 1761\n",
       "Sub Grupo: 09 - Diagnóstico por endoscopia                                                            1718\n",
       "Sub Grupo: 05 - Tratamento em nefrologia                                                              1666\n",
       "Sub Grupo: 07 - Tratamentos odontológicos                                                             1415\n",
       "Sub Grupo: 03 - Tratamentos clínicos (outras especialidades)                                           965\n",
       "Sub Grupo: 06 - Acompanhamento e intercorrências pós-transplante                                       821\n",
       "Sub Grupo: 14 - Cirurgia oro-facial                                                                    727\n",
       "Sub Grupo: 06 - Hemoterapia                                                                            706\n",
       "Sub Grupo: 01 - Coleta de material                                                                     672\n",
       "Sub Grupo: 01 - Ações coletivas/individuais em saúde                                                   660\n",
       "Sub Grupo: 02 - Órteses, próteses e materiais especiais relacionados ao ato cirúrgico                  627\n",
       "Sub Grupo: 03 - Autorização / Regulação                                                                464\n",
       "Sub Grupo: 05 - Cirurgia do aparelho da visão                                                          393\n",
       "Sub Grupo: 12 - Diagnóstico e procedimentos especiais em hemoterapia                                   314\n",
       "Sub Grupo: 13 - Cirurgia reparadora                                                                    254\n",
       "Sub Grupo: 08 - Cirurgia do sistema osteomuscular                                                      211\n",
       "Sub Grupo: 08 - Diagnóstico por medicina nuclear in vivo                                               131\n",
       "Sub Grupo: 18 - Cirurgia em nefrologia                                                                 130\n",
       "Sub Grupo: 14 - Diagnóstico por teste rápido                                                           115\n",
       "Sub Grupo: 09 - Cirurgia do aparelho geniturinário                                                     113\n",
       "Sub Grupo: 17 - Anestesiologia                                                                         111\n",
       "Sub Grupo: 04 - Cirurgia das vias aéreas superiores, da cabeça e do pescoço                            100\n",
       "Sub Grupo: 10 - Diagnóstico por radiologia intervencionista                                             95\n",
       "Sub Grupo: 03 - Ações relacionadas à doação de orgãos, tecidos e células                                94\n",
       "Sub Grupo: 04 - Processamento de tecidos para transplante                                               83\n",
       "Sub Grupo: 07 - Cirurgia do aparelho digestivo, orgãos anexos e parede abdominal                        60\n",
       "Sub Grupo: 13 - Diagnóstico em vigilância epidemiológica e ambiental                                    42\n",
       "Sub Grupo: 09 - Terapias especializadas                                                                 32\n",
       "Sub Grupo: 02 - Vigilância em saúde                                                                     17\n",
       "Sub Grupo: 06 - Cirurgia do aparelho circulatório                                                        6\n",
       "Sub Grupo: 05 - Transplante de orgãos, tecidos e células                                                 5\n",
       "Sub Grupo: 15 - Outras cirurgias                                                                         3\n",
       "Sub Grupo: 10 - Cirurgia de mama                                                                         2\n",
       "Name: Subgrupo, dtype: int64"
      ]
     },
     "execution_count": 11,
     "metadata": {},
     "output_type": "execute_result"
    }
   ],
   "source": [
    "# Quantos procedimentos por subgrupo\n",
    "df['Subgrupo'].value_counts()"
   ]
  },
  {
   "cell_type": "code",
   "execution_count": 12,
   "metadata": {},
   "outputs": [
    {
     "data": {
      "text/plain": [
       "<matplotlib.axes._subplots.AxesSubplot at 0x1a78d97fa90>"
      ]
     },
     "execution_count": 12,
     "metadata": {},
     "output_type": "execute_result"
    },
    {
     "data": {
      "image/png": "[encoded data removed]",
      "text/plain": [
       "<Figure size 432x288 with 1 Axes>"
      ]
     },
     "metadata": {
      "needs_background": "light"
     },
     "output_type": "display_data"
    }
   ],
   "source": [
    "#plotar o gráfico por subgrupo de procedimeto\n",
    "df['Subgrupo'].value_counts().plot.bar()"
   ]
  },
  {
   "cell_type": "code",
   "execution_count": 14,
   "metadata": {},
   "outputs": [
    {
     "data": {
      "text/html": [
       "<div>\n",
       "<style scoped>\n",
       "    .dataframe tbody tr th:only-of-type {\n",
       "        vertical-align: middle;\n",
       "    }\n",
       "\n",
       "    .dataframe tbody tr th {\n",
       "        vertical-align: top;\n",
       "    }\n",
       "\n",
       "    .dataframe thead th {\n",
       "        text-align: right;\n",
       "    }\n",
       "</style>\n",
       "<table border=\"1\" class=\"dataframe\">\n",
       "  <thead>\n",
       "    <tr style=\"text-align: right;\">\n",
       "      <th></th>\n",
       "      <th>Hospital</th>\n",
       "      <th>Complexidade</th>\n",
       "      <th>Subgrupo</th>\n",
       "      <th>Procedimento</th>\n",
       "      <th>Carater Atendimento</th>\n",
       "    </tr>\n",
       "  </thead>\n",
       "  <tbody>\n",
       "    <tr>\n",
       "      <th>11280</th>\n",
       "      <td>HOSPITAL MATERNO INFANTIL DE BRASILIA - HMIB</td>\n",
       "      <td>Média complexidade</td>\n",
       "      <td>Sub Grupo: 02 - Diagnóstico em laboratório clí...</td>\n",
       "      <td>Dosagem de Ferro Sérico</td>\n",
       "      <td>BPA-C</td>\n",
       "    </tr>\n",
       "    <tr>\n",
       "      <th>11294</th>\n",
       "      <td>HOSPITAL MATERNO INFANTIL DE BRASILIA - HMIB</td>\n",
       "      <td>Média complexidade</td>\n",
       "      <td>Sub Grupo: 02 - Diagnóstico em laboratório clí...</td>\n",
       "      <td>Dosagem de Gama-glutamil-transferase (gama Gt)</td>\n",
       "      <td>BPA-C</td>\n",
       "    </tr>\n",
       "  </tbody>\n",
       "</table>\n",
       "</div>"
      ],
      "text/plain": [
       "                                           Hospital        Complexidade  \\\n",
       "11280  HOSPITAL MATERNO INFANTIL DE BRASILIA - HMIB  Média complexidade   \n",
       "11294  HOSPITAL MATERNO INFANTIL DE BRASILIA - HMIB  Média complexidade   \n",
       "\n",
       "                                                Subgrupo  \\\n",
       "11280  Sub Grupo: 02 - Diagnóstico em laboratório clí...   \n",
       "11294  Sub Grupo: 02 - Diagnóstico em laboratório clí...   \n",
       "\n",
       "                                         Procedimento Carater Atendimento  \n",
       "11280                         Dosagem de Ferro Sérico               BPA-C  \n",
       "11294  Dosagem de Gama-glutamil-transferase (gama Gt)               BPA-C  "
      ]
     },
     "execution_count": 14,
     "metadata": {},
     "output_type": "execute_result"
    }
   ],
   "source": [
    "# Vamos criar um subconjunto dos dados originais\n",
    "df_hospbase = df[df['Hospital'] == 'HOSPITAL MATERNO INFANTIL DE BRASILIA - HMIB']\n",
    "# Linhas iniciais\n",
    "df_hospbase.head(2)"
   ]
  },
  {
   "cell_type": "code",
   "execution_count": 15,
   "metadata": {
    "scrolled": true
   },
   "outputs": [
    {
     "data": {
      "text/html": [
       "<div>\n",
       "<style scoped>\n",
       "    .dataframe tbody tr th:only-of-type {\n",
       "        vertical-align: middle;\n",
       "    }\n",
       "\n",
       "    .dataframe tbody tr th {\n",
       "        vertical-align: top;\n",
       "    }\n",
       "\n",
       "    .dataframe thead th {\n",
       "        text-align: right;\n",
       "    }\n",
       "</style>\n",
       "<table border=\"1\" class=\"dataframe\">\n",
       "  <thead>\n",
       "    <tr style=\"text-align: right;\">\n",
       "      <th></th>\n",
       "      <th>Hospital</th>\n",
       "      <th>Complexidade</th>\n",
       "      <th>Subgrupo</th>\n",
       "      <th>Procedimento</th>\n",
       "      <th>Carater Atendimento</th>\n",
       "    </tr>\n",
       "  </thead>\n",
       "  <tbody>\n",
       "    <tr>\n",
       "      <th>180278</th>\n",
       "      <td>HOSPITAL MATERNO INFANTIL DE BRASILIA - HMIB</td>\n",
       "      <td>Média complexidade</td>\n",
       "      <td>Sub Grupo: 03 - Diagnóstico por anatomia patol...</td>\n",
       "      <td>Exame Citopatológico Cervico Vaginal/microflor...</td>\n",
       "      <td>Eletivo</td>\n",
       "    </tr>\n",
       "    <tr>\n",
       "      <th>180279</th>\n",
       "      <td>HOSPITAL MATERNO INFANTIL DE BRASILIA - HMIB</td>\n",
       "      <td>Média complexidade</td>\n",
       "      <td>Sub Grupo: 03 - Diagnóstico por anatomia patol...</td>\n",
       "      <td>Exame Citopatológico Cervico Vaginal/microflor...</td>\n",
       "      <td>Eletivo</td>\n",
       "    </tr>\n",
       "    <tr>\n",
       "      <th>180280</th>\n",
       "      <td>HOSPITAL MATERNO INFANTIL DE BRASILIA - HMIB</td>\n",
       "      <td>Média complexidade</td>\n",
       "      <td>Sub Grupo: 03 - Diagnóstico por anatomia patol...</td>\n",
       "      <td>Exame Citopatológico Cervico Vaginal/microflor...</td>\n",
       "      <td>Eletivo</td>\n",
       "    </tr>\n",
       "    <tr>\n",
       "      <th>180281</th>\n",
       "      <td>HOSPITAL MATERNO INFANTIL DE BRASILIA - HMIB</td>\n",
       "      <td>Média complexidade</td>\n",
       "      <td>Sub Grupo: 03 - Diagnóstico por anatomia patol...</td>\n",
       "      <td>Exame Citopatológico Cervico Vaginal/microflor...</td>\n",
       "      <td>Eletivo</td>\n",
       "    </tr>\n",
       "  </tbody>\n",
       "</table>\n",
       "</div>"
      ],
      "text/plain": [
       "                                            Hospital        Complexidade  \\\n",
       "180278  HOSPITAL MATERNO INFANTIL DE BRASILIA - HMIB  Média complexidade   \n",
       "180279  HOSPITAL MATERNO INFANTIL DE BRASILIA - HMIB  Média complexidade   \n",
       "180280  HOSPITAL MATERNO INFANTIL DE BRASILIA - HMIB  Média complexidade   \n",
       "180281  HOSPITAL MATERNO INFANTIL DE BRASILIA - HMIB  Média complexidade   \n",
       "\n",
       "                                                 Subgrupo  \\\n",
       "180278  Sub Grupo: 03 - Diagnóstico por anatomia patol...   \n",
       "180279  Sub Grupo: 03 - Diagnóstico por anatomia patol...   \n",
       "180280  Sub Grupo: 03 - Diagnóstico por anatomia patol...   \n",
       "180281  Sub Grupo: 03 - Diagnóstico por anatomia patol...   \n",
       "\n",
       "                                             Procedimento Carater Atendimento  \n",
       "180278  Exame Citopatológico Cervico Vaginal/microflor...             Eletivo  \n",
       "180279  Exame Citopatológico Cervico Vaginal/microflor...             Eletivo  \n",
       "180280  Exame Citopatológico Cervico Vaginal/microflor...             Eletivo  \n",
       "180281  Exame Citopatológico Cervico Vaginal/microflor...             Eletivo  "
      ]
     },
     "execution_count": 15,
     "metadata": {},
     "output_type": "execute_result"
    }
   ],
   "source": [
    "#Linhas finais do dataframe\n",
    "df_hospbase.tail(4)"
   ]
  },
  {
   "cell_type": "code",
   "execution_count": 16,
   "metadata": {},
   "outputs": [
    {
     "data": {
      "text/html": [
       "<div>\n",
       "<style scoped>\n",
       "    .dataframe tbody tr th:only-of-type {\n",
       "        vertical-align: middle;\n",
       "    }\n",
       "\n",
       "    .dataframe tbody tr th {\n",
       "        vertical-align: top;\n",
       "    }\n",
       "\n",
       "    .dataframe thead th {\n",
       "        text-align: right;\n",
       "    }\n",
       "</style>\n",
       "<table border=\"1\" class=\"dataframe\">\n",
       "  <thead>\n",
       "    <tr style=\"text-align: right;\">\n",
       "      <th></th>\n",
       "      <th>Hospital</th>\n",
       "      <th>Complexidade</th>\n",
       "      <th>Subgrupo</th>\n",
       "      <th>Procedimento</th>\n",
       "      <th>Carater Atendimento</th>\n",
       "    </tr>\n",
       "  </thead>\n",
       "  <tbody>\n",
       "    <tr>\n",
       "      <th>21621</th>\n",
       "      <td>HOSPITAL REGIONAL DE CEILANDIA</td>\n",
       "      <td>Média complexidade</td>\n",
       "      <td>Sub Grupo: 01 - Consultas / Atendimentos / Aco...</td>\n",
       "      <td>Consulta Medica em Atenção Especializada</td>\n",
       "      <td>BPA-C</td>\n",
       "    </tr>\n",
       "    <tr>\n",
       "      <th>46653</th>\n",
       "      <td>HRS</td>\n",
       "      <td>Média complexidade</td>\n",
       "      <td>Sub Grupo: 01 - Consultas / Atendimentos / Aco...</td>\n",
       "      <td>Consulta Medica em Atenção Especializada</td>\n",
       "      <td>BPA-C</td>\n",
       "    </tr>\n",
       "    <tr>\n",
       "      <th>104323</th>\n",
       "      <td>OFICINA ORTOPEDICA DO DISTRITO FEDERAL</td>\n",
       "      <td>Não se aplica</td>\n",
       "      <td>Sub Grupo: 01 - Órteses, próteses e materiais ...</td>\n",
       "      <td>Prótese Endoesquelética Transfemural em Alumín...</td>\n",
       "      <td>Eletivo</td>\n",
       "    </tr>\n",
       "    <tr>\n",
       "      <th>62226</th>\n",
       "      <td>HOSPITAL DIA</td>\n",
       "      <td>Média complexidade</td>\n",
       "      <td>Sub Grupo: 01 - Consultas / Atendimentos / Aco...</td>\n",
       "      <td>Consulta Medica em Atenção Especializada</td>\n",
       "      <td>BPA-C</td>\n",
       "    </tr>\n",
       "    <tr>\n",
       "      <th>178017</th>\n",
       "      <td>FARMACIA DE ALTO CUSTO - CEILANDIA</td>\n",
       "      <td>Alta complexidade</td>\n",
       "      <td>Sub Grupo: 04 - Componente Especializado da As...</td>\n",
       "      <td>Tacrolimo 1 Mg (por Capsula)</td>\n",
       "      <td>Eletivo</td>\n",
       "    </tr>\n",
       "  </tbody>\n",
       "</table>\n",
       "</div>"
      ],
      "text/plain": [
       "                                      Hospital        Complexidade  \\\n",
       "21621           HOSPITAL REGIONAL DE CEILANDIA  Média complexidade   \n",
       "46653                                      HRS  Média complexidade   \n",
       "104323  OFICINA ORTOPEDICA DO DISTRITO FEDERAL       Não se aplica   \n",
       "62226                             HOSPITAL DIA  Média complexidade   \n",
       "178017      FARMACIA DE ALTO CUSTO - CEILANDIA   Alta complexidade   \n",
       "\n",
       "                                                 Subgrupo  \\\n",
       "21621   Sub Grupo: 01 - Consultas / Atendimentos / Aco...   \n",
       "46653   Sub Grupo: 01 - Consultas / Atendimentos / Aco...   \n",
       "104323  Sub Grupo: 01 - Órteses, próteses e materiais ...   \n",
       "62226   Sub Grupo: 01 - Consultas / Atendimentos / Aco...   \n",
       "178017  Sub Grupo: 04 - Componente Especializado da As...   \n",
       "\n",
       "                                             Procedimento Carater Atendimento  \n",
       "21621            Consulta Medica em Atenção Especializada               BPA-C  \n",
       "46653            Consulta Medica em Atenção Especializada               BPA-C  \n",
       "104323  Prótese Endoesquelética Transfemural em Alumín...             Eletivo  \n",
       "62226            Consulta Medica em Atenção Especializada               BPA-C  \n",
       "178017                       Tacrolimo 1 Mg (por Capsula)             Eletivo  "
      ]
     },
     "execution_count": 16,
     "metadata": {},
     "output_type": "execute_result"
    }
   ],
   "source": [
    "# Lista linhas aleatórias do dataframe\n",
    "df.sample(5)"
   ]
  },
  {
   "cell_type": "code",
   "execution_count": 17,
   "metadata": {},
   "outputs": [
    {
     "data": {
      "text/plain": [
       "Exame Citopatológico Cervico Vaginal/microflora-rastreamento                                            12327\n",
       "Exame Citopatologico Cervico-vaginal/microflora                                                          3415\n",
       "Consulta Medica em Atenção Especializada                                                                  593\n",
       "Mamografia Bilateral para Rastreamento                                                                    480\n",
       "Exame Anatomo-patológico para Congelamento / Parafina por Peça Cirúrgica ou por Biopsia (exceto Colo      192\n",
       "Exame de Citologia (exceto Cervico-vaginal)                                                               179\n",
       "Ultra-sonografia Obstetrica                                                                               153\n",
       "Exame Citopatologico de Mama                                                                              143\n",
       "Ultrassonografia de Abdomen Total                                                                         138\n",
       "Consulta de Profissionais de Nivel Superior na Atenção Especializada (exceto Médico)                      117\n",
       "Colposcopia                                                                                                68\n",
       "Primeira Consulta Odontologica Programática                                                                66\n",
       "Consulta Medica em Saude do Trabalhador                                                                    52\n",
       "Tomografia Computadorizada de Tórax                                                                        49\n",
       "Tomografia Computadorizada de Pelve / Bacia / Abdomen Inferior                                             48\n",
       "Tomografia Computadorizada de Abdomen Superior                                                             47\n",
       "Ultrassonografia de Aparelho Urinario                                                                      47\n",
       "Ultrassonografia Mamária Bilateral                                                                         43\n",
       "Atendimento Fisioterapêutico em Pacientes c/ Disfunções Uroginecológicas                                   40\n",
       "Avaliação Funcional Muscular                                                                               40\n",
       "Atendimento Fisioterapêutico Nas Alterações Motoras                                                        40\n",
       "Exame Anatomopatologico de Mama - Biopsia                                                                  37\n",
       "Mamografia                                                                                                 37\n",
       "Consulta Pré-natal                                                                                         33\n",
       "Tomografia Computadorizada do Crânio                                                                       31\n",
       "Aplicação Tópica de Flúor (individual por Sessão)                                                          29\n",
       "Profilaxia / Remoção da Placa Bacteriana                                                                   28\n",
       "Barreiras Protetoras de Pele Sintética e/ou Mista em Forma de Pó / Pasta e/ou Placa                        25\n",
       "Atendimento Clinico p/ Indicacao, Fornecimento e Insercão do Dispositivo Intra-uterino (diu)               17\n",
       "Ecocardiografia TransTorácica                                                                              17\n",
       "                                                                                                        ...  \n",
       "Dosagem de Antígeno Prostático Especifico (psa)                                                             1\n",
       "Antibiograma                                                                                                1\n",
       "Radiografia de Coracão e Vasos da Base (pa + Lateral)                                                       1\n",
       "Dosagem de Glicose                                                                                          1\n",
       "Baciloscopia Direta p/ Baar (hanseniase)                                                                    1\n",
       "Uretrocistografia                                                                                           1\n",
       "Dosagem de Magnésio                                                                                         1\n",
       "Dosagem de Creatinina                                                                                       1\n",
       "Dosagem de Gonadotrofina Corionica Humana (hcg, Beta Hcg)                                                   1\n",
       "Dosagem de Gama-glutamil-transferase (gama Gt)                                                              1\n",
       "Visita Domiciliar por Profissional de Nível Médio                                                           1\n",
       "Aplicação de Cariostático (por Dente)                                                                       1\n",
       "Ultrassonografia de Articulacao                                                                             1\n",
       "Dosagem de Transaminase Glutamico-piruvica (tgp)                                                            1\n",
       "Dosagem de Ácido Úrico                                                                                      1\n",
       "Determinação de Crematócrito no Leite Humano Ordenhado                                                      1\n",
       "Dosagem de Calcio                                                                                           1\n",
       "Ultrassonografia Transvaginal                                                                               1\n",
       "Dosagem de Hormonio Luteinizante (lh)                                                                       1\n",
       "Dosagem de Microalbumina na Urina                                                                           1\n",
       "Obturação em Dente Permanente com Três ou Mais Raízes                                                       1\n",
       "Selamento Provisório de Cavidade Dentária                                                                   1\n",
       "Pulpotomia Dentária                                                                                         1\n",
       "Fundoscopia                                                                                                 1\n",
       "Dosagem de Fosfatase Alcalina                                                                               1\n",
       "Radiografia de Estomago e Duodeno                                                                           1\n",
       "Leucograma                                                                                                  1\n",
       "Clearance de Creatinina                                                                                     1\n",
       "Obturação em Dente Permanente Birradicular                                                                  1\n",
       "Tonometria                                                                                                  1\n",
       "Name: Procedimento, Length: 200, dtype: int64"
      ]
     },
     "execution_count": 17,
     "metadata": {},
     "output_type": "execute_result"
    }
   ],
   "source": [
    "# A Quantidade de procedimentos realizados no hospital\n",
    "df_hospbase['Procedimento'].value_counts()"
   ]
  },
  {
   "cell_type": "code",
   "execution_count": 19,
   "metadata": {},
   "outputs": [
    {
     "data": {
      "text/plain": [
       "Hospital               16314\n",
       "Complexidade           16314\n",
       "Subgrupo               16314\n",
       "Procedimento           16314\n",
       "Carater Atendimento    16314\n",
       "dtype: int64"
      ]
     },
     "execution_count": 19,
     "metadata": {},
     "output_type": "execute_result"
    }
   ],
   "source": [
    "# Podemos subdividir o dataframe com base em pedaço de palavra\n",
    "df_hospbase[df_hospbase['Procedimento'].str.contains('Exame')].count()"
   ]
  },
  {
   "cell_type": "code",
   "execution_count": 23,
   "metadata": {},
   "outputs": [
    {
     "data": {
      "text/html": [
       "<div>\n",
       "<style scoped>\n",
       "    .dataframe tbody tr th:only-of-type {\n",
       "        vertical-align: middle;\n",
       "    }\n",
       "\n",
       "    .dataframe tbody tr th {\n",
       "        vertical-align: top;\n",
       "    }\n",
       "\n",
       "    .dataframe thead th {\n",
       "        text-align: right;\n",
       "    }\n",
       "</style>\n",
       "<table border=\"1\" class=\"dataframe\">\n",
       "  <thead>\n",
       "    <tr style=\"text-align: right;\">\n",
       "      <th></th>\n",
       "      <th>Hospital</th>\n",
       "      <th>Complexidade</th>\n",
       "      <th>Subgrupo</th>\n",
       "      <th>Procedimento</th>\n",
       "      <th>Carater Atendimento</th>\n",
       "    </tr>\n",
       "  </thead>\n",
       "  <tbody>\n",
       "    <tr>\n",
       "      <th>15398</th>\n",
       "      <td>HOSPITAL MATERNO INFANTIL DE BRASILIA - HMIB</td>\n",
       "      <td>Média complexidade</td>\n",
       "      <td>Sub Grupo: 11 - Métodos diagnósticos em especi...</td>\n",
       "      <td>Colposcopia</td>\n",
       "      <td>Eletivo</td>\n",
       "    </tr>\n",
       "    <tr>\n",
       "      <th>17330</th>\n",
       "      <td>HRT HOSPITAL REGIONAL DE TAGUATINGA</td>\n",
       "      <td>Média complexidade</td>\n",
       "      <td>Sub Grupo: 11 - Métodos diagnósticos em especi...</td>\n",
       "      <td>Colposcopia</td>\n",
       "      <td>Eletivo</td>\n",
       "    </tr>\n",
       "    <tr>\n",
       "      <th>17487</th>\n",
       "      <td>HRT HOSPITAL REGIONAL DE TAGUATINGA</td>\n",
       "      <td>Média complexidade</td>\n",
       "      <td>Sub Grupo: 11 - Métodos diagnósticos em especi...</td>\n",
       "      <td>Colposcopia</td>\n",
       "      <td>Eletivo</td>\n",
       "    </tr>\n",
       "    <tr>\n",
       "      <th>18710</th>\n",
       "      <td>HOSPITAL MATERNO INFANTIL DE BRASILIA - HMIB</td>\n",
       "      <td>Média complexidade</td>\n",
       "      <td>Sub Grupo: 11 - Métodos diagnósticos em especi...</td>\n",
       "      <td>Colposcopia</td>\n",
       "      <td>Eletivo</td>\n",
       "    </tr>\n",
       "    <tr>\n",
       "      <th>20259</th>\n",
       "      <td>HRAN</td>\n",
       "      <td>Média complexidade</td>\n",
       "      <td>Sub Grupo: 11 - Métodos diagnósticos em especi...</td>\n",
       "      <td>Colposcopia</td>\n",
       "      <td>Eletivo</td>\n",
       "    </tr>\n",
       "  </tbody>\n",
       "</table>\n",
       "</div>"
      ],
      "text/plain": [
       "                                           Hospital        Complexidade  \\\n",
       "15398  HOSPITAL MATERNO INFANTIL DE BRASILIA - HMIB  Média complexidade   \n",
       "17330           HRT HOSPITAL REGIONAL DE TAGUATINGA  Média complexidade   \n",
       "17487           HRT HOSPITAL REGIONAL DE TAGUATINGA  Média complexidade   \n",
       "18710  HOSPITAL MATERNO INFANTIL DE BRASILIA - HMIB  Média complexidade   \n",
       "20259                                          HRAN  Média complexidade   \n",
       "\n",
       "                                                Subgrupo Procedimento  \\\n",
       "15398  Sub Grupo: 11 - Métodos diagnósticos em especi...  Colposcopia   \n",
       "17330  Sub Grupo: 11 - Métodos diagnósticos em especi...  Colposcopia   \n",
       "17487  Sub Grupo: 11 - Métodos diagnósticos em especi...  Colposcopia   \n",
       "18710  Sub Grupo: 11 - Métodos diagnósticos em especi...  Colposcopia   \n",
       "20259  Sub Grupo: 11 - Métodos diagnósticos em especi...  Colposcopia   \n",
       "\n",
       "      Carater Atendimento  \n",
       "15398             Eletivo  \n",
       "17330             Eletivo  \n",
       "17487             Eletivo  \n",
       "18710             Eletivo  \n",
       "20259             Eletivo  "
      ]
     },
     "execution_count": 23,
     "metadata": {},
     "output_type": "execute_result"
    }
   ],
   "source": [
    "# Dividir o DataFrame original apenas pelo procedimento de Colposcopia \n",
    "df_parto = df[df['Procedimento'] == 'Colposcopia']\n",
    "df_parto.head()"
   ]
  },
  {
   "cell_type": "code",
   "execution_count": 24,
   "metadata": {},
   "outputs": [
    {
     "data": {
      "text/plain": [
       "HOSPITAL MATERNO INFANTIL DE BRASILIA - HMIB      68\n",
       "HRT HOSPITAL REGIONAL DE TAGUATINGA               63\n",
       "HRAN                                              42\n",
       "HRL                                               27\n",
       "HRG                                               21\n",
       "INSTITUTO HOSPITAL DE BASE DO DISTRITO FEDERAL    13\n",
       "POLICLINICA NUCLEO BANDEIRANTE                     4\n",
       "HRS                                                2\n",
       "HOSPITAL REGIONAL DE CEILANDIA                     1\n",
       "Name: Hospital, dtype: int64"
      ]
     },
     "execution_count": 24,
     "metadata": {},
     "output_type": "execute_result"
    }
   ],
   "source": [
    "df_parto['Hospital'].value_counts()"
   ]
  },
  {
   "cell_type": "code",
   "execution_count": 27,
   "metadata": {},
   "outputs": [
    {
     "data": {
      "text/plain": [
       "Eletivo    241\n",
       "Name: Carater Atendimento, dtype: int64"
      ]
     },
     "execution_count": 27,
     "metadata": {},
     "output_type": "execute_result"
    }
   ],
   "source": [
    "#Por carater atendimento\n",
    "df_parto['Carater Atendimento'].value_counts()"
   ]
  },
  {
   "cell_type": "code",
   "execution_count": 29,
   "metadata": {},
   "outputs": [
    {
     "data": {
      "text/plain": [
       "<matplotlib.axes._subplots.AxesSubplot at 0x1a78e2083c8>"
      ]
     },
     "execution_count": 29,
     "metadata": {},
     "output_type": "execute_result"
    },
    {
     "data": {
      "image/png": "[encoded data removed]",
      "text/plain": [
       "<Figure size 432x288 with 1 Axes>"
      ]
     },
     "metadata": {
      "needs_background": "light"
     },
     "output_type": "display_data"
    }
   ],
   "source": [
    "df_parto['Hospital'].value_counts().plot.barh()"
   ]
  },
  {
   "cell_type": "code",
   "execution_count": 32,
   "metadata": {},
   "outputs": [
    {
     "data": {
      "text/plain": [
       "<matplotlib.axes._subplots.AxesSubplot at 0x1a79118c780>"
      ]
     },
     "execution_count": 32,
     "metadata": {},
     "output_type": "execute_result"
    },
    {
     "data": {
      "image/png": "[encoded data removed]",
      "text/plain": [
       "<Figure size 432x288 with 1 Axes>"
      ]
     },
     "metadata": {
      "needs_background": "light"
     },
     "output_type": "display_data"
    }
   ],
   "source": [
    "#Melhorar o gráfico\n",
    "#Inverter a ordem e colocar o titulo\n",
    "df_parto['Hospital'].value_counts(ascending=True).plot.barh(title='Quantidade de Exames x por Hospital')"
   ]
  },
  {
   "cell_type": "code",
   "execution_count": null,
   "metadata": {},
   "outputs": [],
   "source": []
  }
 ],
 "metadata": {
  "kernelspec": {
   "display_name": "Python 3",
   "language": "python",
   "name": "python3"
  },
  "language_info": {
   "codemirror_mode": {
    "name": "ipython",
    "version": 3
   },
   "file_extension": ".py",
   "mimetype": "text/x-python",
   "name": "python",
   "nbconvert_exporter": "python",
   "pygments_lexer": "ipython3",
   "version": "3.7.1"
  }
 },
 "nbformat": 4,
 "nbformat_minor": 2
}
